{
 "cells": [
  {
   "cell_type": "code",
   "execution_count": 1,
   "metadata": {},
   "outputs": [
    {
     "name": "stderr",
     "output_type": "stream",
     "text": [
      "100%|██████████| 98161/98161 [09:11<00:00, 178.08it/s] \n"
     ]
    }
   ],
   "source": [
    "import os\n",
    "import json\n",
    "from tqdm import tqdm\n",
    "def process_folder(folder_path):\n",
    "    for filename in tqdm(os.listdir(folder_path)):\n",
    "            filepath = os.path.join(folder_path, filename)\n",
    "            with open(filepath, 'r', encoding='utf-8') as file:\n",
    "                a_story_data = []\n",
    "                for line in file:\n",
    "                    data = json.loads(line.strip())\n",
    "                    a_story_data.append(data)\n",
    "                if len(a_story_data) != 4:\n",
    "                    print(f'Error in {filename}')\n",
    "                    return\n",
    "                story = [a_story_data[0]['context'], a_story_data[0]['modified_sentence'], \n",
    "                         a_story_data[1]['modified_sentence'], a_story_data[2]['modified_sentence'], \n",
    "                         a_story_data[3]['modified_sentence']]\n",
    "                \n",
    "                storyID = filename.split('.')[0]\n",
    "                output_filename = f\"processed_story.jsonl\"\n",
    "                with open(output_filename, 'a', encoding='utf-8') as f:\n",
    "                    json_record = {\"storyID\": storyID, \"story\": story}\n",
    "                    f.write(json.dumps(json_record) + '\\n')\n",
    "                # print(f'{filename} processed and saved as {output_filename}')\n",
    "\n",
    "# 设定目标文件夹路径\n",
    "folder_path = 'modified_sentences'  # 请替换为你的文件夹路径\n",
    "process_folder(folder_path)"
   ]
  },
  {
   "cell_type": "code",
   "execution_count": 2,
   "metadata": {},
   "outputs": [
    {
     "data": {
      "text/plain": [
       "98161"
      ]
     },
     "execution_count": 2,
     "metadata": {},
     "output_type": "execute_result"
    }
   ],
   "source": [
    "import os\n",
    "\n",
    "def get_files_in_directory(directory_path):\n",
    "    \"\"\"\n",
    "    获取指定目录下所有文件的名称，并将其存放在一个列表中返回。\n",
    "    \n",
    "    :param directory_path: 字符串，表示目标文件夹的路径。\n",
    "    :return: 包含文件夹下所有文件名的列表。\n",
    "    \"\"\"\n",
    "    # 确保传入的路径存在且为目录\n",
    "    if not os.path.isdir(directory_path):\n",
    "        print(\"指定的路径不存在或不是一个目录\")\n",
    "        return []\n",
    "    \n",
    "    # 使用os.listdir()获取目录中的所有文件和子目录名称\n",
    "    all_entries = os.listdir(directory_path)\n",
    "    # 过滤出文件（排除子目录），可根据需要调整过滤条件\n",
    "    files_only = [entry for entry in all_entries if os.path.isfile(os.path.join(directory_path, entry))]\n",
    "    \n",
    "    return files_only\n",
    "\n",
    "# 示例：使用函数\n",
    "directory_to_read = 'modified_sentences'  # 请将'your_directory_path'替换为你要读取的文件夹路径\n",
    "file_names = get_files_in_directory(directory_to_read)\n",
    "len(file_names)"
   ]
  }
 ],
 "metadata": {
  "kernelspec": {
   "display_name": "Python 3",
   "language": "python",
   "name": "python3"
  },
  "language_info": {
   "codemirror_mode": {
    "name": "ipython",
    "version": 3
   },
   "file_extension": ".py",
   "mimetype": "text/x-python",
   "name": "python",
   "nbconvert_exporter": "python",
   "pygments_lexer": "ipython3",
   "version": "3.10.12"
  }
 },
 "nbformat": 4,
 "nbformat_minor": 2
}
