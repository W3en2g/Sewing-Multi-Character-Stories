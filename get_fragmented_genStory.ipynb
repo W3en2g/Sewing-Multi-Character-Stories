{
 "cells": [
  {
   "cell_type": "code",
   "execution_count": 1,
   "metadata": {},
   "outputs": [
    {
     "name": "stderr",
     "output_type": "stream",
     "text": [
      "/home/hansirui/Briding_incoherence/.venv/lib/python3.10/site-packages/tqdm/auto.py:21: TqdmWarning: IProgress not found. Please update jupyter and ipywidgets. See https://ipywidgets.readthedocs.io/en/stable/user_install.html\n",
      "  from .autonotebook import tqdm as notebook_tqdm\n",
      "2024-06-13 16:18:26 INFO: Checking for updates to resources.json in case models have been updated.  Note: this behavior can be turned off with download_method=None or download_method=DownloadMethod.REUSE_RESOURCES\n",
      "Downloading https://raw.githubusercontent.com/stanfordnlp/stanza-resources/main/resources_1.8.0.json: 379kB [00:00, 11.4MB/s]                    \n",
      "2024-06-13 16:18:27 INFO: Downloaded file to /home/hansirui/stanza_resources/resources.json\n",
      "2024-06-13 16:18:27 WARNING: Language en package default expects mwt, which has been added\n",
      "2024-06-13 16:18:27 INFO: Loading these models for language: en (English):\n",
      "=======================================\n",
      "| Processor | Package                 |\n",
      "---------------------------------------\n",
      "| tokenize  | combined                |\n",
      "| mwt       | combined                |\n",
      "| coref     | ontonotes_electra-large |\n",
      "=======================================\n",
      "\n",
      "2024-06-13 16:18:27 INFO: Using device: cuda\n",
      "2024-06-13 16:18:27 INFO: Loading: tokenize\n",
      "2024-06-13 16:18:41 INFO: Loading: mwt\n",
      "2024-06-13 16:18:41 INFO: Loading: coref\n",
      "2024-06-13 16:19:01 INFO: Done loading processors!\n"
     ]
    },
    {
     "data": {
      "text/plain": [
       "'Alice went to the store. She bought a cake.'"
      ]
     },
     "execution_count": 1,
     "metadata": {},
     "output_type": "execute_result"
    }
   ],
   "source": [
    "import stanza\n",
    "pipe = stanza.Pipeline(\"en\", processors=\"tokenize,coref\")\n",
    "text = \"Alice went to the store. She bought a cake. John was there too. He bought a pie.\"\n",
    "output = pipe(text)\n",
    "\n",
    "import json\n",
    "import re\n",
    "\n",
    "output_json = json.loads(str(output))\n",
    "def tokens_to_sentences(tokens_list):\n",
    "    \"\"\"\n",
    "    将Stanza tokenize后的tokens列表转换回句子列表。\n",
    "    :param tokens_list: Stanza tokenize处理后的输出列表\n",
    "    :return: 由句子组成的列表，每个句子为一个字符串\n",
    "    \"\"\"\n",
    "    sentences = []  # 存储还原的句子\n",
    "    current_sentence = \"\"  # 当前正在构建的句子\n",
    "\n",
    "    for token in tokens_list:\n",
    "        # 添加当前token的文本到当前句子，但先不加空格\n",
    "        if token[\"text\"].strip():  # 避免添加空字符串\n",
    "            if current_sentence:  # 如果当前句子非空\n",
    "                # 检查上一个token是否以标点结束，如果是，则不添加额外空格\n",
    "                if not re.match(r'[\\.\\?!]+$', token[\"text\"]) and \\\n",
    "                   not re.match(r'^[\\[\\(\\{\\<\\]\\)\\}\\>]', token[\"text\"]):\n",
    "                    current_sentence += \" \"  # 否则，在新token前添加空格\n",
    "            current_sentence += token[\"text\"]\n",
    "\n",
    "    # 如果current_sentence非空，说明最后一个句子未被加入到sentences中，应将其添加\n",
    "    if current_sentence:\n",
    "        sentences.append(current_sentence)\n",
    "\n",
    "    return sentences\n",
    "filtered_sentences = []\n",
    "\n",
    "for sentence in output_json:\n",
    "    # 检查当前句子中是否有提及\"John\"的代词或名词\n",
    "    mentions_john = any(token[\"text\"] == \"John\" or \n",
    "                         (token[\"coref_chains\"] and \n",
    "                          token[\"coref_chains\"][0][\"representative_text\"] == \"John\")\n",
    "                        for token in sentence)\n",
    "    \n",
    "    # 如果没有提及\"John\"，则保留该句子\n",
    "    if not mentions_john:\n",
    "        filtered_sentences.append(sentence)\n",
    "\n",
    "beautiful_sentences = []\n",
    "for idx, sentence in enumerate(filtered_sentences, start=1):\n",
    "    beautiful_sentences.extend(tokens_to_sentences(sentence))\n",
    "fragmented_story = \" \".join(beautiful_sentences)\n",
    "fragmented_story"
   ]
  }
 ],
 "metadata": {
  "kernelspec": {
   "display_name": ".venv",
   "language": "python",
   "name": "python3"
  },
  "language_info": {
   "codemirror_mode": {
    "name": "ipython",
    "version": 3
   },
   "file_extension": ".py",
   "mimetype": "text/x-python",
   "name": "python",
   "nbconvert_exporter": "python",
   "pygments_lexer": "ipython3",
   "version": "3.10.12"
  }
 },
 "nbformat": 4,
 "nbformat_minor": 2
}
