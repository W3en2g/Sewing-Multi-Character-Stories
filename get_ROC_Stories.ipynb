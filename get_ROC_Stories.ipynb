{
 "cells": [
  {
   "cell_type": "code",
   "execution_count": 3,
   "metadata": {},
   "outputs": [],
   "source": [
    "import pandas as pd\n",
    "data16 = pd.read_csv('ROC_stories\\ROCStories__spring2016 - ROCStories_spring2016.csv')\n",
    "data17 = pd.read_csv('ROC_stories\\ROCStories_winter2017 - ROCStories_winter2017.csv')\n",
    "cloze16test = pd.read_excel('ROC_stories\\cloze_test_test__spring2016.xlsx')\n",
    "cloze16val = pd.read_excel('ROC_stories\\cloze_test_val__spring2016.xlsx')\n",
    "# cloze18test = pd.read_csv('ROC_stories\\cloze_test_test__winter2018-cloze_test_ALL_test - 1.csv')\n",
    "# cloze18val = pd.read_csv('ROC_stories\\cloze_test_val__winter2018-cloze_test_ALL_val - 1 - 1.csv')\n",
    "\n",
    "# cloze 部分没有story title  \n",
    "\n",
    "# cloze部分和ROC部分不重合?\n",
    "# story title  sentence1 是有重复的  但是还不清楚是否有重复的故事\n",
    "\n",
    "# cloze18test 没有公布答案\n",
    "# cloze18val共1571条 其中1556条来自cloze16val 15条来自cloze16test"
   ]
  },
  {
   "cell_type": "code",
   "execution_count": 4,
   "metadata": {},
   "outputs": [
    {
     "data": {
      "text/plain": [
       "(45496, 52665, 1871, 1871)"
      ]
     },
     "execution_count": 4,
     "metadata": {},
     "output_type": "execute_result"
    }
   ],
   "source": [
    "len(data16), len(data17), len(cloze16test), len(cloze16val), # len(cloze18test),  len(cloze18val)"
   ]
  },
  {
   "cell_type": "code",
   "execution_count": 5,
   "metadata": {},
   "outputs": [],
   "source": [
    "def get_wrong_ending(end1_list, end2_list, right_end_list):\n",
    "    wrong_ends = []\n",
    "    for i in range(len(right_end_list)):\n",
    "        wrong_ends.append(end2_list[i] if right_end_list[i]==1 else end1_list[i])\n",
    "    return wrong_ends\n",
    "def get_right_ending(end1_list, end2_list, right_end_list):\n",
    "    right_ends = []\n",
    "    for i in range(len(right_end_list)):\n",
    "        right_ends.append(end1_list[i] if right_end_list[i]==1 else end2_list[i])\n",
    "    return right_ends"
   ]
  },
  {
   "cell_type": "code",
   "execution_count": 6,
   "metadata": {},
   "outputs": [],
   "source": [
    "clozeid_list = cloze16test['InputStoryid'].tolist() + cloze16val['InputStoryid'].tolist() #+ cloze18test['InputStoryid'].tolist()  # + cloze18val['InputStoryid']\n",
    "end1_list = cloze16test[\"RandomFifthSentenceQuiz1\"].tolist() + cloze16val[\"RandomFifthSentenceQuiz1\"].tolist() #+ cloze18test[\"RandomFifthSentenceQuiz1\"].tolist()  # + cloze18val[\"RandomFifthSentenceQuiz1\"].tolist()\n",
    "end2_list = cloze16test[\"RandomFifthSentenceQuiz2\"].tolist() + cloze16val[\"RandomFifthSentenceQuiz2\"].tolist() #+ cloze18test[\"RandomFifthSentenceQuiz2\"].tolist() # + cloze18val[\"RandomFifthSentenceQuiz2\"]\n",
    "right_end_list = cloze16test[\"AnswerRightEnding\"].tolist() + cloze16val[\"AnswerRightEnding\"].tolist() #+ cloze18test[\"AnswerRightEnding\"].tolist() # + cloze18val[\"AnswerRightEnding\"]\n",
    "right_ends = get_right_ending(end1_list, end2_list, right_end_list)\n",
    "wrong_ends = get_wrong_ending(end1_list, end2_list, right_end_list)"
   ]
  },
  {
   "cell_type": "code",
   "execution_count": 7,
   "metadata": {},
   "outputs": [],
   "source": [
    "import random\n",
    "# zip the storyid and the sentence(and wrong ending) the shffule the list\n",
    "def shuffle_list(l):\n",
    "    new_l = l.copy()\n",
    "    while True:\n",
    "        random.shuffle(new_l)\n",
    "        for a, b in zip(l, new_l):\n",
    "            if a == b:\n",
    "                break\n",
    "        else:\n",
    "            return new_l"
   ]
  },
  {
   "cell_type": "code",
   "execution_count": 8,
   "metadata": {},
   "outputs": [],
   "source": [
    "storyid_list = data16['storyid'].tolist() + data17['storyid'].tolist()+clozeid_list\n",
    "# storytitle_list = data16['storytitle'].tolist() + data17['storytitle'].tolist()\n",
    "sentence1_list = data16['sentence1'].tolist() + data17['sentence1'].tolist() + cloze16test[\"InputSentence1\"].tolist() + cloze16val[\"InputSentence1\"].tolist() \n",
    "sentence2_list = data16['sentence2'].tolist() + data17['sentence2'].tolist() + cloze16test[\"InputSentence2\"].tolist() + cloze16val[\"InputSentence2\"].tolist()\n",
    "sentence3_list = data16['sentence3'].tolist() + data17['sentence3'].tolist() + cloze16test[\"InputSentence3\"].tolist() + cloze16val[\"InputSentence3\"].tolist()\n",
    "sentence4_list = data16['sentence4'].tolist() + data17['sentence4'].tolist() + cloze16test[\"InputSentence4\"].tolist() + cloze16val[\"InputSentence4\"].tolist()\n",
    "sentence5_list = data16['sentence5'].tolist() + data17['sentence5'].tolist() + right_ends"
   ]
  },
  {
   "cell_type": "code",
   "execution_count": 9,
   "metadata": {},
   "outputs": [],
   "source": [
    "shuffle_sentence5_list = shuffle_list(sentence5_list + wrong_ends)\n",
    "shuffle_sentence4_list = shuffle_list(sentence4_list + wrong_ends)\n",
    "shuffle_sentence3_list = shuffle_list(sentence3_list+ wrong_ends)\n",
    "shuffle_sentence2_list = shuffle_list(sentence2_list+ wrong_ends)\n",
    "shuffle_sentence1_list = shuffle_list(sentence1_list+ wrong_ends)\n",
    "\n",
    "new_shuffle_sentence5_list = []\n",
    "for sent in shuffle_sentence5_list:\n",
    "    if \" he \" in sent or \" she \" in sent or \"He \" in sent or \"She \" in sent:\n",
    "        sent = sent.replace(\" he \", \" Josha \")\n",
    "        sent = sent.replace(\"He \", \"Josha \")\n",
    "        sent = sent.replace(\" she \", \" Emma \")\n",
    "        sent = sent.replace(\"She \", \"Emma \")\n",
    "    new_shuffle_sentence5_list.append(sent)"
   ]
  },
  {
   "cell_type": "code",
   "execution_count": null,
   "metadata": {},
   "outputs": [],
   "source": [
    "for sent in new_shuffle_sentence5_list:\n",
    "    if \" he \" in sent or \" she \" in sent or \"He \" in sent or \"She \" in sent:\n",
    "        print(sent)"
   ]
  },
  {
   "cell_type": "code",
   "execution_count": null,
   "metadata": {},
   "outputs": [],
   "source": [
    "len(sentence1_list)"
   ]
  },
  {
   "cell_type": "code",
   "execution_count": null,
   "metadata": {},
   "outputs": [],
   "source": [
    "i = int(len(storyid_list)*random.random())\n",
    "# print(\"title:\"+ storyid_list[i])\n",
    "print(\"帮我写一个故事, 以下的事实是大纲, 它们都会出现在故事的不同位置, 请你根据以下的事实完善成一个连贯的符合逻辑的有趣的故事. \")\n",
    "print(\"事实1:\"+ sentence1_list[i])\n",
    "print(\"事实2:\"+ sentence2_list[i])\n",
    "print(\"事实3:\"+ sentence3_list[i])\n",
    "print(\"事实4:\"+ new_shuffle_sentence5_list[i])\n",
    "\n",
    "print(\"事实5:\"+ sentence4_list[i])\n",
    "print(\"事实6:\"+ sentence5_list[i])\n"
   ]
  }
 ],
 "metadata": {
  "kernelspec": {
   "display_name": "base",
   "language": "python",
   "name": "python3"
  },
  "language_info": {
   "codemirror_mode": {
    "name": "ipython",
    "version": 3
   },
   "file_extension": ".py",
   "mimetype": "text/x-python",
   "name": "python",
   "nbconvert_exporter": "python",
   "pygments_lexer": "ipython3",
   "version": "3.11.4"
  }
 },
 "nbformat": 4,
 "nbformat_minor": 2
}
