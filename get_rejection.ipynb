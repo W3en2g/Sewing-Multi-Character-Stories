{
 "cells": [
  {
   "cell_type": "code",
   "execution_count": 12,
   "metadata": {},
   "outputs": [
    {
     "name": "stdout",
     "output_type": "stream",
     "text": [
      "GPT35/IO/temp_0_7_results/主线双支线.jsonl\n",
      "主线双支线\n",
      "GPT35/IO/temp_0_7_results/主线支线.jsonl\n",
      "主线支线\n",
      "GPT35/IO/temp_0_7_results/双主线.jsonl\n",
      "双主线\n",
      "GPT35/IO/temp_0_7_results/主线情节点.jsonl\n",
      "主线情节点\n"
     ]
    }
   ],
   "source": [
    "# get all the jsonl file under GPT35/COT/temp_0_7_results\n",
    "import os\n",
    "import json\n",
    "import sys\n",
    "\n",
    "def get_all_jsonl_files(path):\n",
    "    jsonl_files = []\n",
    "    for root, dirs, files in os.walk(path):\n",
    "        for file in files:\n",
    "            if file.endswith(\".jsonl\"):\n",
    "                jsonl_files.append(os.path.join(root, file))\n",
    "    return jsonl_files\n",
    "result_files = get_all_jsonl_files(\"GPT35/IO/temp_0_7_results\")\n",
    "\n",
    "# read all the jsonl files\n",
    "rejection_list = {}\n",
    "for file in result_files:\n",
    "    print(file)\n",
    "    type = file.split(\"/\")[-1].split(\".\")[0]\n",
    "    print(type)\n",
    "    rejection = []\n",
    "    with open(file, \"r\") as f:\n",
    "        for line in f:\n",
    "            data = json.loads(line)\n",
    "            keys = list(data.keys())\n",
    "            if data['responses'] == \"ERROR\":\n",
    "                \n",
    "                if 'Cid_list' in keys:\n",
    "                    rejection.append((data['Aid_list'],data['Bid_list'],data['Cid_list']))\n",
    "                else:\n",
    "                    rejection.append((data['Aid_list'],data['Bid_list']))\n",
    "    rejection_list[type] = rejection"
   ]
  },
  {
   "cell_type": "code",
   "execution_count": 13,
   "metadata": {},
   "outputs": [],
   "source": [
    "# save rejection_list to a json file\n",
    "with open(\"GPT35_IO_rejection_list.json\", \"w\") as f:\n",
    "    json.dump(rejection_list, f)"
   ]
  }
 ],
 "metadata": {
  "kernelspec": {
   "display_name": ".venv",
   "language": "python",
   "name": "python3"
  },
  "language_info": {
   "codemirror_mode": {
    "name": "ipython",
    "version": 3
   },
   "file_extension": ".py",
   "mimetype": "text/x-python",
   "name": "python",
   "nbconvert_exporter": "python",
   "pygments_lexer": "ipython3",
   "version": "3.10.12"
  }
 },
 "nbformat": 4,
 "nbformat_minor": 2
}
