{
 "cells": [
  {
   "cell_type": "code",
   "execution_count": 1,
   "metadata": {},
   "outputs": [],
   "source": [
    "import os\n",
    "import sys\n",
    "import json\n",
    "filename = 'selected.jsonl'\n",
    "with open(filename, 'r', encoding='utf-8') as file:\n",
    "    story_data = []\n",
    "    for line in file:\n",
    "        data = json.loads(line.strip())\n",
    "        story_data.append(data)\n",
    "stories = {}\n",
    "story_id_list = []\n",
    "for story_da in story_data:\n",
    "    story_id_list.append(story_da['storyID'])\n",
    "    stories[story_da['storyID']] = story_da['story']"
   ]
  },
  {
   "cell_type": "code",
   "execution_count": 2,
   "metadata": {},
   "outputs": [],
   "source": [
    "# import spacy\n",
    "\n",
    "# nlp = spacy.load(\"en_core_web_sm\")\n",
    "# def get_character(sentences):\n",
    "#     character = []\n",
    "#     for sent in sentences:\n",
    "#         doc = nlp(sent)\n",
    "#         for ent in doc.ents:\n",
    "#             if ent.label_ == \"PERSON\":\n",
    "#                 character.append(ent.text)\n",
    "#     # 去重\n",
    "#     character = list(set(character))\n",
    "#     return character"
   ]
  },
  {
   "cell_type": "code",
   "execution_count": 3,
   "metadata": {},
   "outputs": [
    {
     "name": "stderr",
     "output_type": "stream",
     "text": [
      "/home/hansirui/Briding_incoherence/.venv/lib/python3.10/site-packages/tqdm/auto.py:21: TqdmWarning: IProgress not found. Please update jupyter and ipywidgets. See https://ipywidgets.readthedocs.io/en/stable/user_install.html\n",
      "  from .autonotebook import tqdm as notebook_tqdm\n",
      "2024-06-15 11:37:45 INFO: Checking for updates to resources.json in case models have been updated.  Note: this behavior can be turned off with download_method=None or download_method=DownloadMethod.REUSE_RESOURCES\n",
      "Downloading https://raw.githubusercontent.com/stanfordnlp/stanza-resources/main/resources_1.8.0.json: 379kB [00:00, 10.6MB/s]                    \n",
      "2024-06-15 11:37:46 INFO: Downloaded file to /home/hansirui/stanza_resources/resources.json\n",
      "2024-06-15 11:37:46 WARNING: Language en package default expects mwt, which has been added\n",
      "2024-06-15 11:37:46 INFO: Loading these models for language: en (English):\n",
      "=========================================\n",
      "| Processor | Package                   |\n",
      "-----------------------------------------\n",
      "| tokenize  | combined                  |\n",
      "| mwt       | combined                  |\n",
      "| ner       | ontonotes-ww-multi_charlm |\n",
      "=========================================\n",
      "\n",
      "2024-06-15 11:37:47 INFO: Using device: cuda\n",
      "2024-06-15 11:37:47 INFO: Loading: tokenize\n",
      "2024-06-15 11:37:49 INFO: Loading: mwt\n",
      "2024-06-15 11:37:49 INFO: Loading: ner\n",
      "2024-06-15 11:37:49 INFO: Done loading processors!\n"
     ]
    }
   ],
   "source": [
    "import stanza\n",
    "nlp = stanza.Pipeline(lang='en', processors='tokenize,ner')\n",
    "def get_character(sentences):\n",
    "    text = \" \".join(sentences)\n",
    "    doc = nlp(text)\n",
    "    names = []\n",
    "\n",
    "    for sentence in doc.sentences:\n",
    "        for entity in sentence.ents:\n",
    "            if entity.type == 'PERSON':\n",
    "                name = entity.text.split(\"'\")[0]\n",
    "                names.append(name)\n",
    "    character = list(set(names))\n",
    "    return character"
   ]
  },
  {
   "cell_type": "code",
   "execution_count": 4,
   "metadata": {},
   "outputs": [],
   "source": [
    "character_table = {}\n",
    "for story_id in story_id_list:\n",
    "    sentences = stories[story_id]\n",
    "    character = get_character(sentences)\n",
    "    character_table[story_id] = character"
   ]
  },
  {
   "cell_type": "code",
   "execution_count": 5,
   "metadata": {},
   "outputs": [],
   "source": [
    "# character_table\n",
    "# save to json file\n",
    "with open('character_table.json', 'w', encoding='utf-8') as file:\n",
    "    json.dump(character_table, file, ensure_ascii=False, indent=4)"
   ]
  },
  {
   "cell_type": "code",
   "execution_count": 6,
   "metadata": {},
   "outputs": [],
   "source": [
    "# 判断是否有重叠\n",
    "def compare_character(story_id1, story_id2):\n",
    "    character1 = character_table[story_id1]\n",
    "    character2 = character_table[story_id2]\n",
    "    for c in character1:\n",
    "        if c in character2:\n",
    "            return True\n",
    "\n",
    "import random\n",
    "# zip the storyid and the sentence(and wrong ending) the shffule the list\n",
    "def shuffle_list(l):\n",
    "    random.seed(42) \n",
    "    B_l = l.copy()\n",
    "    C_l = l.copy()\n",
    "    while True:\n",
    "        random.shuffle(B_l)\n",
    "        random.shuffle(C_l)\n",
    "        for a, b, c in zip(l, B_l, C_l):\n",
    "            if a == b or compare_character(a, b):\n",
    "                break\n",
    "            elif a == c or compare_character(a, c):\n",
    "                break\n",
    "            elif b == c or compare_character(b, c):\n",
    "                break\n",
    "        else:\n",
    "            return B_l, C_l"
   ]
  },
  {
   "cell_type": "code",
   "execution_count": 7,
   "metadata": {},
   "outputs": [],
   "source": [
    "B_story_id_list, C_story_id_list = shuffle_list(story_id_list)"
   ]
  },
  {
   "cell_type": "code",
   "execution_count": 8,
   "metadata": {},
   "outputs": [],
   "source": [
    "def filling_template(story):\n",
    "    whole_plot_points = \"\"\n",
    "    for i, plot_point in enumerate(story):\n",
    "        whole_plot_points += f\"{i + 1}. {plot_point}\\n\"\n",
    "    # prompt = f\"\"\"Craft a concise and coherent short story that meticulously incorporates each of the {len(story)} plot points provided below, ensuring absolute fidelity to the given details. Additional details may be included only when necessary to maintain the coherence of the narrative.\\n\\n### Plot Points\\n{whole_plot_points}\\nPlease output the story without any further instructions or explanations.\"\"\"\n",
    "\n",
    "    # prompt = f\"\"\"Write a concise and coherent short story that weaves all {len(story)} plot points provided below, ensuring absolute fidelity to the given details. Additional details may be included only when necessary to maintain the coherence of the narrative.\\n\\n### Plot Points\\n{whole_plot_points}\\nYou only need to output the story.\"\"\"\n",
    "    COT_prompt = f\"\"\"Write a concise and coherent short story that weaves all {len(story)} plot points provided below, ensuring absolute fidelity to the given details. Additional details may be included only when necessary to maintain the coherence of the narrative.\\n\\n### Plot Points\\n{whole_plot_points}\\nMake a plan then write. Your output should be of the following format:\\n\\nPlan:\\nYour plan here.\\n\\nStory:\\nYour story here.\"\"\"\n",
    "    return COT_prompt\n",
    "\n",
    "import random\n",
    "def get_outliine(j, type):\n",
    "    id_A = story_id_list[j]\n",
    "    id_B = B_story_id_list[j]\n",
    "    id_C = C_story_id_list[j]\n",
    "\n",
    "\n",
    "    story = []\n",
    "\n",
    "    for i in range(len(type) - 1):\n",
    "        ch1 = type[i]\n",
    "        ch2 = type[i + 1]\n",
    "        \n",
    "        if ch1 == \"A\" or ch1 == \"a\":\n",
    "            point = stories[id_A][int(ch2)]\n",
    "            story.append(point)\n",
    "        elif ch1 == \"B\" or ch1 == \"b\":\n",
    "            point = stories[id_B][int(ch2)]\n",
    "            story.append(point)\n",
    "        elif ch1 == \"C\" or ch1 == \"c\":\n",
    "            point = stories[id_C][int(ch2)]\n",
    "            story.append(point)\n",
    "        else:\n",
    "            continue\n",
    "    return story, filling_template(story)"
   ]
  },
  {
   "cell_type": "code",
   "execution_count": 9,
   "metadata": {},
   "outputs": [
    {
     "name": "stdout",
     "output_type": "stream",
     "text": [
      "第1个类型：主线情节点\n",
      "第2个类型：主线支线\n",
      "第3个类型：主线双支线\n",
      "第4个类型：双主线\n"
     ]
    }
   ],
   "source": [
    "types =[\"a0 a1 B3 a3 a4\", \"a0 B0 a2 B4 a4\",\"a0 B0 C0 a2 B4 C4 a4\",\"a0 B0 a1 B1 a2 B2 a3 B3 a4 B4\"]\n",
    "type_name = [\"主线情节点\", \"主线支线\", \"主线双支线\", \"双主线\"]\n",
    "for i in range(4):\n",
    "    print(f\"第{i+1}个类型：{type_name[i]}\")\n",
    "    filename = f'task_story/COT/{type_name[i]}.jsonl'\n",
    "    type = types[i]\n",
    "\n",
    "    with open(filename, 'w') as f:\n",
    "        for j in range(len(story_id_list)):\n",
    "            outline, prompt = get_outliine(j, type)\n",
    "            if 'C' in type:\n",
    "                json_record = {'storyID_A': story_id_list[j], 'storyID_B': B_story_id_list[j], 'storyID_C': C_story_id_list[j], 'prompt':prompt ,'outline':outline}\n",
    "            else:\n",
    "                json_record = {'storyID_A': story_id_list[j], 'storyID_B': B_story_id_list[j], 'prompt':prompt, 'outline':outline}\n",
    "            f.write(json.dumps(json_record) + '\\n')"
   ]
  },
  {
   "cell_type": "markdown",
   "metadata": {},
   "source": [
    "## test"
   ]
  },
  {
   "cell_type": "markdown",
   "metadata": {},
   "source": [
    "#### 主线+情节点"
   ]
  },
  {
   "cell_type": "code",
   "execution_count": 10,
   "metadata": {},
   "outputs": [
    {
     "name": "stdout",
     "output_type": "stream",
     "text": [
      "(['Jason woke up to the sound of water.', \"It was coming from Jason's basement.\", 'When Chris tried it Chris was amazed at how bright it was outside.', 'The basement was totally flooded from a leak!', 'Jason called a plumber to fix everything.'], \"Write a concise and coherent short story that weaves all 5 plot points provided below, ensuring absolute fidelity to the given details. Additional details may be included only when necessary to maintain the coherence of the narrative.\\n\\n### Plot Points\\n1. Jason woke up to the sound of water.\\n2. It was coming from Jason's basement.\\n3. When Chris tried it Chris was amazed at how bright it was outside.\\n4. The basement was totally flooded from a leak!\\n5. Jason called a plumber to fix everything.\\n\\nMake a plan then write. Your output should be of the following format:\\n\\nPlan:\\nYour plan here.\\n\\nStory:\\nYour story here.\")\n"
     ]
    }
   ],
   "source": [
    "prompt  = get_outliine(121, \"a0 a1 B3 a3 a4\")\n",
    "print(prompt)"
   ]
  },
  {
   "cell_type": "markdown",
   "metadata": {},
   "source": [
    "### 主线+支线\n"
   ]
  },
  {
   "cell_type": "code",
   "execution_count": 11,
   "metadata": {},
   "outputs": [
    {
     "name": "stdout",
     "output_type": "stream",
     "text": [
      "Write a concise and coherent short story that weaves all 5 plot points provided below, ensuring absolute fidelity to the given details. Additional details may be included only when necessary to maintain the coherence of the narrative.\n",
      "\n",
      "### Plot Points\n",
      "1. Jason woke up to the sound of water.\n",
      "2. Chris had been agoraphobic for years.\n",
      "3. Jason went down to the basement to see what was happening.\n",
      "4. Chris promised his worker he would try it more.\n",
      "5. Jason called a plumber to fix everything.\n",
      "\n",
      "Make a plan then write. Your output should be of the following format:\n",
      "\n",
      "Plan:\n",
      "Your plan here.\n",
      "\n",
      "Story:\n",
      "Your story here.\n"
     ]
    }
   ],
   "source": [
    "outline,prompt = get_outliine(121, \"a0 B0 a2 B4 a4\")\n",
    "print(prompt)"
   ]
  },
  {
   "cell_type": "markdown",
   "metadata": {},
   "source": [
    "### 主线+2支线"
   ]
  },
  {
   "cell_type": "code",
   "execution_count": 12,
   "metadata": {},
   "outputs": [
    {
     "name": "stdout",
     "output_type": "stream",
     "text": [
      "Write a concise and coherent short story that weaves all 7 plot points provided below, ensuring absolute fidelity to the given details. Additional details may be included only when necessary to maintain the coherence of the narrative.\n",
      "\n",
      "### Plot Points\n",
      "1. Jason woke up to the sound of water.\n",
      "2. Chris had been agoraphobic for years.\n",
      "3. There was a clown at Eddy's friend's birthday party.\n",
      "4. Jason went down to the basement to see what was happening.\n",
      "5. Chris promised his worker he would try it more.\n",
      "6. Eddy's mom told Eddy that they wore big shoes, but they didn't have extra big feet.\n",
      "7. Jason called a plumber to fix everything.\n",
      "\n",
      "Make a plan then write. Your output should be of the following format:\n",
      "\n",
      "Plan:\n",
      "Your plan here.\n",
      "\n",
      "Story:\n",
      "Your story here.\n"
     ]
    }
   ],
   "source": [
    "outline,prompt  = get_outliine(121, \"a0 B0 C0 a2 B4 C4 a4\")\n",
    "print(prompt)"
   ]
  },
  {
   "cell_type": "markdown",
   "metadata": {},
   "source": [
    "### 双主线"
   ]
  },
  {
   "cell_type": "code",
   "execution_count": 13,
   "metadata": {},
   "outputs": [
    {
     "name": "stdout",
     "output_type": "stream",
     "text": [
      "([\"Ruth's neighbor was religious.\", 'Maggie had been in trouble with the law when she was younger.', \"Ruth's neighbor invited Ruth over for a bible study.\", 'When Maggie married and had a kid, Maggie was a great mom.', 'Ruth reluctantly agreed.', 'Maggie and her husband divorced and her husband filed for custody.', 'Ruth and her neighbor read several passages and discussed them.', \"The judge held Maggie's past against her and ruled for her husband.\", 'When Ruth and her neighbor were done, Ruth went home.', 'Maggie, despondent, fell back into a life of crime.'], \"Write a concise and coherent short story that weaves all 10 plot points provided below, ensuring absolute fidelity to the given details. Additional details may be included only when necessary to maintain the coherence of the narrative.\\n\\n### Plot Points\\n1. Ruth's neighbor was religious.\\n2. Maggie had been in trouble with the law when she was younger.\\n3. Ruth's neighbor invited Ruth over for a bible study.\\n4. When Maggie married and had a kid, Maggie was a great mom.\\n5. Ruth reluctantly agreed.\\n6. Maggie and her husband divorced and her husband filed for custody.\\n7. Ruth and her neighbor read several passages and discussed them.\\n8. The judge held Maggie's past against her and ruled for her husband.\\n9. When Ruth and her neighbor were done, Ruth went home.\\n10. Maggie, despondent, fell back into a life of crime.\\n\\nMake a plan then write. Your output should be of the following format:\\n\\nPlan:\\nYour plan here.\\n\\nStory:\\nYour story here.\")\n"
     ]
    }
   ],
   "source": [
    "prompt  = get_outliine(12, \"a0 B0 a1 B1 a2 B2 a3 B3 a4 B4\")\n",
    "print(prompt)"
   ]
  }
 ],
 "metadata": {
  "kernelspec": {
   "display_name": "base",
   "language": "python",
   "name": "python3"
  },
  "language_info": {
   "codemirror_mode": {
    "name": "ipython",
    "version": 3
   },
   "file_extension": ".py",
   "mimetype": "text/x-python",
   "name": "python",
   "nbconvert_exporter": "python",
   "pygments_lexer": "ipython3",
   "version": "3.10.12"
  }
 },
 "nbformat": 4,
 "nbformat_minor": 2
}
