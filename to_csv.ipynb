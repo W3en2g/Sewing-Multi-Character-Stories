{
 "cells": [
  {
   "cell_type": "code",
   "execution_count": 1,
   "metadata": {},
   "outputs": [
    {
     "name": "stdout",
     "output_type": "stream",
     "text": [
      "转换完成！\n"
     ]
    }
   ],
   "source": [
    "import json\n",
    "import pandas as pd\n",
    "\n",
    "# 定义一个空列表，用于存储每行解析后的字典\n",
    "data_list = []\n",
    "\n",
    "# 读取.jsonl文件\n",
    "with open('processed_story.jsonl', 'r', encoding='utf-8') as file:\n",
    "    for line in file:\n",
    "        # 每一行都是一个json字符串，使用json.loads转换为字典\n",
    "        data = json.loads(line.strip())\n",
    "        data_list.append(data)\n",
    "\n",
    "# 将列表转换为DataFrame\n",
    "df = pd.DataFrame(data_list)\n",
    "\n",
    "# 将DataFrame保存为csv文件\n",
    "df.to_csv('output.csv', index=False, encoding='utf-8')\n",
    "\n",
    "print(\"转换完成！\")"
   ]
  },
  {
   "cell_type": "code",
   "execution_count": 1,
   "metadata": {},
   "outputs": [],
   "source": [
    "import os\n",
    "import sys\n",
    "import json\n",
    "filename = '/home/hansirui/Briding_incoherence/old/processed_story.jsonl'\n",
    "with open(filename, 'r', encoding='utf-8') as file:\n",
    "    story_data = []\n",
    "    for line in file:\n",
    "        data = json.loads(line.strip())\n",
    "        story_data.append(data)\n",
    "stories = {}\n",
    "story_id_list = []\n",
    "for story_da in story_data:\n",
    "    story_id_list.append(story_da['storyID'])\n",
    "    stories[story_da['storyID']] = story_da['story']"
   ]
  },
  {
   "cell_type": "code",
   "execution_count": 2,
   "metadata": {},
   "outputs": [],
   "source": [
    "import pandas as pd\n",
    "\n",
    "# read csv file\n",
    "df = pd.read_csv('selected.csv', encoding='utf-8')\n",
    "# turn in to jsonl file\n",
    "# {\"storyID\": \"c3d15394-2420-4620-a5f3-6f595cbc50e8\", \"story\": [\"Rob was upset about some things the city council was doing.\", \"Rob was against them instituting permit parking on Rob's street.\", \"Rob organized a petition and collected numerous signatures.\", \"Rob also spoke at several city council meetings.\", \"Thankfully, Rob was able to prevent the measure from being implemented.\"]}\n",
    "selected_id = []\n",
    "with open('selected.jsonl', 'w', encoding='utf-8') as file:\n",
    "    for index, row in df.iterrows():\n",
    "        storyID = row['storyID']\n",
    "        story = row['story']\n",
    "        data = {\n",
    "            'storyID': storyID,\n",
    "            'story': story\n",
    "        }\n",
    "        selected_id.append(storyID)"
   ]
  },
  {
   "cell_type": "code",
   "execution_count": 4,
   "metadata": {},
   "outputs": [],
   "source": [
    "with open('selected.jsonl', 'w', encoding='utf-8') as file:\n",
    "    for id in selected_id:\n",
    "        data = {\n",
    "            'storyID': id,\n",
    "            'story': stories[id]\n",
    "        }\n",
    "        file.write(json.dumps(data, ensure_ascii=False) + '\\n')"
   ]
  },
  {
   "cell_type": "code",
   "execution_count": 13,
   "metadata": {},
   "outputs": [
    {
     "name": "stdout",
     "output_type": "stream",
     "text": [
      "主线双支线\n",
      "主线支线\n",
      "双主线\n",
      "主线情节点\n"
     ]
    }
   ],
   "source": [
    "import os\n",
    "import json\n",
    "folder_path = 'task_story'  # 指定文件夹路径\n",
    "files = [os.path.join(folder_path, file) for file in os.listdir(folder_path)]\n",
    "\n",
    "for file in files:\n",
    "    if os.path.isfile(file):  # 确保是文件而不是子文件夹\n",
    "        with open(file, 'r', encoding='utf-8') as file:\n",
    "            print(file.name.split('/')[-1].replace('.jsonl', ''))\n",
    "            # for line in file:\n",
    "            #     data = json.loads(line.strip())\n",
    "\n",
    "            #     storyID_A = data.get(\"storyID_A\")\n",
    "            #     storyID_B = data.get(\"storyID_B\")\n",
    "            #     storyID_C = data.get(\"storyID_C\")\n",
    "            #     prompt = data.get(\"prompt\")\n",
    "            #     if storyID_C:\n",
    "            #         print(\"aaaa\")\n",
    "\n",
    "                # print(storyID_A, storyID_B, storyID_C, prompt)"
   ]
  }
 ],
 "metadata": {
  "kernelspec": {
   "display_name": ".venv",
   "language": "python",
   "name": "python3"
  },
  "language_info": {
   "codemirror_mode": {
    "name": "ipython",
    "version": 3
   },
   "file_extension": ".py",
   "mimetype": "text/x-python",
   "name": "python",
   "nbconvert_exporter": "python",
   "pygments_lexer": "ipython3",
   "version": "3.10.12"
  }
 },
 "nbformat": 4,
 "nbformat_minor": 2
}
