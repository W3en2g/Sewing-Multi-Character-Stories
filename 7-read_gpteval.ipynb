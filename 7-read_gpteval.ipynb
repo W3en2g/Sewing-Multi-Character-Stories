{
 "cells": [
  {
   "cell_type": "code",
   "execution_count": 5,
   "metadata": {},
   "outputs": [],
   "source": [
    "\n",
    "def unwarp_eval_result(eval_result):\n",
    "    scores = []\n",
    "    for eva in eval_result:\n",
    "    # if \"Score:\" in eval_result:\n",
    "    #     score = eval_result.split(\"Explanation:\")[0].split(\"Score:\")[1]\n",
    "    #     explanation = eval_result.split(\"Explanation:\")[1]\n",
    "        score = eva.split(\"\\n\\n\")[0]\n",
    "        if \":\" in score:\n",
    "            score = score.split(\":\")[1].strip()\n",
    "        explanation = eva.split(\"\\n\\n\")[1]\n",
    "        scores.append(score)\n",
    "        # print(explanation)\n",
    "    # get avg score\n",
    "    avg_score = sum([float(s) for s in scores]) / len(scores)\n",
    "    return avg_score\n",
    "\n"
   ]
  },
  {
   "cell_type": "code",
   "execution_count": 6,
   "metadata": {},
   "outputs": [
    {
     "name": "stdout",
     "output_type": "stream",
     "text": [
      "主线情节点 67.34615384615384\n",
      "主线支线 66.3076923076923\n",
      "双主线 43.57692307692308\n",
      "主线双支线 50.25\n"
     ]
    }
   ],
   "source": [
    "import os\n",
    "import json\n",
    "\n",
    "type_match = {\n",
    "    \"主线情节点\": \"a0 a1 B3 a3 a4\",\n",
    "    \"主线支线\": \"a0 B0 a2 B4 a4\",\n",
    "    \"主线双支线\": \"a0 B0 C0 a2 B4 C4 a4\",\n",
    "    \"双主线\": \"a0 B0 a1 B1 a2 B2 a3 B3 a4 B4\"\n",
    "}\n",
    "task_result = \"GPT4/COT/temp_0_7\"\n",
    "\n",
    "for filename in os.listdir(f\"{task_result}_eval_results\"):\n",
    "    file_path = os.path.join(f\"{task_result}_eval_results\", filename)\n",
    "    type_file = file_path.split('/')[-1].split('_')[0]\n",
    "    type = type_match[type_file]\n",
    "    # print(type_file)\n",
    "    scores = []\n",
    "    with open(file_path, 'r', encoding='utf-8') as file:\n",
    "        results = []\n",
    "        for line in file:\n",
    "            res = {}\n",
    "            data = json.loads(line.strip())\n",
    "            \n",
    "            aid = data.get('Aid_list')\n",
    "            bid = data.get('Bid_list')\n",
    "            cid = data.get('Cid_list')\n",
    "            outline = data.get('outline')\n",
    "            raw_response = data.get('responses')\n",
    "            eval_result = data.get('eval_result')\n",
    "            score = unwarp_eval_result(eval_result)\n",
    "            scores.append(score)\n",
    "    print(f\"{type_file} {sum(scores)/len(scores)}\")\n"
   ]
  }
 ],
 "metadata": {
  "kernelspec": {
   "display_name": "base",
   "language": "python",
   "name": "python3"
  },
  "language_info": {
   "codemirror_mode": {
    "name": "ipython",
    "version": 3
   },
   "file_extension": ".py",
   "mimetype": "text/x-python",
   "name": "python",
   "nbconvert_exporter": "python",
   "pygments_lexer": "ipython3",
   "version": "3.10.12"
  }
 },
 "nbformat": 4,
 "nbformat_minor": 2
}
