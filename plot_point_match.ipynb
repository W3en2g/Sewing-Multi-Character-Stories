{
 "cells": [
  {
   "cell_type": "code",
   "execution_count": 8,
   "metadata": {},
   "outputs": [
    {
     "name": "stdout",
     "output_type": "stream",
     "text": [
      "0.46328967809677124 0.5686685700018076\n"
     ]
    }
   ],
   "source": [
    "from sentence_transformers import SentenceTransformer\n",
    "from scipy.spatial.distance import cosine\n",
    "sentences = [\"\"\"After class Peter learned this sport was only for girls in high school.\"\"\", \"\"\"\"You wouldn't believe this,\" Peter laughed, \"I tried to get the boys to join in on netball today.\"\"\",\"\"\"Over lunch, his best friend Peter was talking about his day teaching high school physical education.\"\"\"]\n",
    "\n",
    "model = SentenceTransformer('sentence-transformers/all-MiniLM-L6-v2')\n",
    "embeddings = model.encode(sentences)\n",
    "similarity_score_1 = 1 - cosine(embeddings[0], embeddings[1])\n",
    "similarity_score_2 = 1 - cosine(embeddings[0], embeddings[2])\n",
    "print(similarity_score_1, similarity_score_2)"
   ]
  }
 ],
 "metadata": {
  "kernelspec": {
   "display_name": ".venv",
   "language": "python",
   "name": "python3"
  },
  "language_info": {
   "codemirror_mode": {
    "name": "ipython",
    "version": 3
   },
   "file_extension": ".py",
   "mimetype": "text/x-python",
   "name": "python",
   "nbconvert_exporter": "python",
   "pygments_lexer": "ipython3",
   "version": "3.10.12"
  }
 },
 "nbformat": 4,
 "nbformat_minor": 2
}
